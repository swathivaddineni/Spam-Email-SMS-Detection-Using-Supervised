import pandas as pd
import numpy as np
import matplotlib.pyplot as plt
import seaborn as sns
import pickle
from sklearn.model_selection import train_test_split
from sklearn.feature_extraction.text import CountVectorizer
from sklearn.naive_bayes import MultinomialNB
from sklearn.metrics import accuracy_score, classification_report, confusion_matrix

# ✅ Step 2: Load Dataset (custom dataset with your name)
url = "https://raw.githubusercontent.com/justmarkham/pycon-2016-tutorial/master/data/sms.tsv"
data = pd.read_csv(url, sep='\t', header=None, names=['label', 'message'])
data.to_csv("swathi_spam_dataset.csv", index=False)
print("✅ Dataset Loaded Successfully!")
data.head()

# ✅ Step 3: Preprocess Data
data['label_num'] = data.label.map({'ham': 0, 'spam': 1})
X = data['message']
y = data['label_num']

# ✅ Step 4: Train-Test Split
X_train, X_test, y_train, y_test = train_test_split(X, y, test_size=0.2, random_state=42)

# ✅ Step 5: Vectorize Text
vectorizer = CountVectorizer(stop_words='english')
X_train_vec = vectorizer.fit_transform(X_train)
X_test_vec = vectorizer.transform(X_test)

# ✅ Step 6: Train Model (Naive Bayes)
model = MultinomialNB()
model.fit(X_train_vec, y_train)

# ✅ Step 7: Predictions
y_pred = model.predict(X_test_vec)

# ✅ Step 8: Evaluation Metrics
accuracy = accuracy_score(y_test, y_pred)
print(f"\n🎯 Accuracy: {accuracy}")
print("\nClassification Report:\n", classification_report(y_test, y_pred))

# ✅ Step 9: Confusion Matrix Plot
cm = confusion_matrix(y_test, y_pred)
plt.figure(figsize=(6,5))
sns.heatmap(cm, annot=True, fmt='d', cmap='Blues')
plt.title('Confusion Matrix')
plt.xlabel('Predicted')
plt.ylabel('Actual')
plt.savefig("confusion_matrix.png")
plt.show()

# ✅ Step 10: Performance Bar Chart
report = classification_report(y_test, y_pred, output_dict=True)
precision = [report['0']['precision'], report['1']['precision']]
recall = [report['0']['recall'], report['1']['recall']]
f1 = [report['0']['f1-score'], report['1']['f1-score']]
labels = ['HAM (0)', 'SPAM (1)']

x = np.arange(len(labels))
width = 0.25

plt.figure(figsize=(7,5))
plt.bar(x - width, precision, width, label='Precision')
plt.bar(x, recall, width, label='Recall')
plt.bar(x + width, f1, width, label='F1-score')

plt.xlabel('Classes')
plt.ylabel('Score')
plt.ylim(0.8, 1.0)
plt.title('Model Performance Metrics')
plt.xticks(x, labels)
plt.legend()
plt.savefig("performance_metrics.png")
plt.show()

# ✅ Step 11: Test Custom Messages
samples = [
    "Congratulations! You've won a $1000 Walmart gift card. Go to link now!",
    "Hey Swathi, can we meet tomorrow at college?"
]
sample_vec = vectorizer.transform(samples)
predictions = model.predict(sample_vec)

for msg, pred in zip(samples, predictions):
    label = "SPAM" if pred == 1 else "HAM"
    print(f"{msg} --> {label}")

